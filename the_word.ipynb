{
 "cells": [
  {
   "cell_type": "code",
   "execution_count": 1,
   "metadata": {},
   "outputs": [
    {
     "data": {
      "text/html": [
       "<div>\n",
       "<style scoped>\n",
       "    .dataframe tbody tr th:only-of-type {\n",
       "        vertical-align: middle;\n",
       "    }\n",
       "\n",
       "    .dataframe tbody tr th {\n",
       "        vertical-align: top;\n",
       "    }\n",
       "\n",
       "    .dataframe thead th {\n",
       "        text-align: right;\n",
       "    }\n",
       "</style>\n",
       "<table border=\"1\" class=\"dataframe\">\n",
       "  <thead>\n",
       "    <tr style=\"text-align: right;\">\n",
       "      <th></th>\n",
       "      <th>用户名</th>\n",
       "      <th>是否看过</th>\n",
       "      <th>星级</th>\n",
       "      <th>评论内容</th>\n",
       "      <th>赞同数</th>\n",
       "      <th>评论日期</th>\n",
       "      <th>评论时间</th>\n",
       "    </tr>\n",
       "  </thead>\n",
       "  <tbody>\n",
       "    <tr>\n",
       "      <th>0</th>\n",
       "      <td>江湖骗子</td>\n",
       "      <td>看过</td>\n",
       "      <td>力荐</td>\n",
       "      <td>台剧质量都已经拍到这个深度了，国产剧还在拍什么家长里短，情情爱爱。。。。</td>\n",
       "      <td>14396</td>\n",
       "      <td>2019-03-26</td>\n",
       "      <td>16:27:07</td>\n",
       "    </tr>\n",
       "    <tr>\n",
       "      <th>1</th>\n",
       "      <td>狐狸修炼中</td>\n",
       "      <td>看过</td>\n",
       "      <td>力荐</td>\n",
       "      <td>韩剧在稳中求变，台湾剧在爆发式突变。我们的剧以不变应万变（反正没人看）</td>\n",
       "      <td>11845</td>\n",
       "      <td>2019-04-06</td>\n",
       "      <td>00:03:44</td>\n",
       "    </tr>\n",
       "    <tr>\n",
       "      <th>2</th>\n",
       "      <td>坚持裸睡</td>\n",
       "      <td>看过</td>\n",
       "      <td>力荐</td>\n",
       "      <td>民众在斩草，政府在除根，媒体在浇水，只有王赦在研究土壤。</td>\n",
       "      <td>10502</td>\n",
       "      <td>2019-04-14</td>\n",
       "      <td>01:54:44</td>\n",
       "    </tr>\n",
       "    <tr>\n",
       "      <th>3</th>\n",
       "      <td>王二</td>\n",
       "      <td>看过</td>\n",
       "      <td>力荐</td>\n",
       "      <td>大佛普拉斯，血观音，我们与恶的距离，你的孩子不是你的孩子\\n看完台湾这些作品\\n确定台湾影视...</td>\n",
       "      <td>9116</td>\n",
       "      <td>2019-04-02</td>\n",
       "      <td>02:25:13</td>\n",
       "    </tr>\n",
       "    <tr>\n",
       "      <th>4</th>\n",
       "      <td>嘉凉</td>\n",
       "      <td>看过</td>\n",
       "      <td>力荐</td>\n",
       "      <td>从滴滴事件到红黄蓝到房思琪到胜利酒吧到更多每天刷新在微博热搜的事件，这几年关于社会刑事案件引...</td>\n",
       "      <td>5365</td>\n",
       "      <td>2019-03-29</td>\n",
       "      <td>06:37:06</td>\n",
       "    </tr>\n",
       "    <tr>\n",
       "      <th>5</th>\n",
       "      <td>时青</td>\n",
       "      <td>看过</td>\n",
       "      <td>力荐</td>\n",
       "      <td>我想给五星 打这五星的原因是我一直希望有这么一部国产剧能关注那些可怕凶杀案后走不出案件阴影的...</td>\n",
       "      <td>4520</td>\n",
       "      <td>2019-03-24</td>\n",
       "      <td>22:15:00</td>\n",
       "    </tr>\n",
       "    <tr>\n",
       "      <th>6</th>\n",
       "      <td>Joshua</td>\n",
       "      <td>看过</td>\n",
       "      <td>力荐</td>\n",
       "      <td>怕是金钟奖预定了</td>\n",
       "      <td>2909</td>\n",
       "      <td>2019-03-24</td>\n",
       "      <td>19:45:55</td>\n",
       "    </tr>\n",
       "  </tbody>\n",
       "</table>\n",
       "</div>"
      ],
      "text/plain": [
       "      用户名 是否看过  星级                                               评论内容    赞同数  \\\n",
       "0    江湖骗子   看过  力荐               台剧质量都已经拍到这个深度了，国产剧还在拍什么家长里短，情情爱爱。。。。  14396   \n",
       "1   狐狸修炼中   看过  力荐                韩剧在稳中求变，台湾剧在爆发式突变。我们的剧以不变应万变（反正没人看）  11845   \n",
       "2    坚持裸睡   看过  力荐                       民众在斩草，政府在除根，媒体在浇水，只有王赦在研究土壤。  10502   \n",
       "3      王二   看过  力荐  大佛普拉斯，血观音，我们与恶的距离，你的孩子不是你的孩子\\n看完台湾这些作品\\n确定台湾影视...   9116   \n",
       "4      嘉凉   看过  力荐  从滴滴事件到红黄蓝到房思琪到胜利酒吧到更多每天刷新在微博热搜的事件，这几年关于社会刑事案件引...   5365   \n",
       "5      时青   看过  力荐  我想给五星 打这五星的原因是我一直希望有这么一部国产剧能关注那些可怕凶杀案后走不出案件阴影的...   4520   \n",
       "6  Joshua   看过  力荐                                           怕是金钟奖预定了   2909   \n",
       "\n",
       "         评论日期      评论时间  \n",
       "0  2019-03-26  16:27:07  \n",
       "1  2019-04-06  00:03:44  \n",
       "2  2019-04-14  01:54:44  \n",
       "3  2019-04-02  02:25:13  \n",
       "4  2019-03-29  06:37:06  \n",
       "5  2019-03-24  22:15:00  \n",
       "6  2019-03-24  19:45:55  "
      ]
     },
     "execution_count": 1,
     "metadata": {},
     "output_type": "execute_result"
    }
   ],
   "source": [
    "import pandas as pd\n",
    "\n",
    "df = pd.read_excel('the_word_comments.xlsx')\n",
    "df.head(7)"
   ]
  },
  {
   "cell_type": "code",
   "execution_count": 2,
   "metadata": {},
   "outputs": [
    {
     "data": {
      "text/plain": [
       "Series([], Name: 用户名, dtype: object)"
      ]
     },
     "execution_count": 2,
     "metadata": {},
     "output_type": "execute_result"
    }
   ],
   "source": [
    "user = df['用户名']\n",
    "user[user.duplicated().isin(['True'])]"
   ]
  },
  {
   "cell_type": "code",
   "execution_count": 3,
   "metadata": {},
   "outputs": [
    {
     "data": {
      "text/plain": [
       "<AxesSubplot:>"
      ]
     },
     "execution_count": 3,
     "metadata": {},
     "output_type": "execute_result"
    },
    {
     "data": {
      "image/png": "[encoded data removed]",
      "text/plain": [
       "<Figure size 360x172.8 with 1 Axes>"
      ]
     },
     "metadata": {},
     "output_type": "display_data"
    }
   ],
   "source": [
    "seen = df['是否看过']\n",
    "seen.value_counts().plot.pie(figsize=(5, 2.4), ylabel='', autopct='%.0f%%', \n",
    "                             colors=['c'], textprops={'fontsize': 24, 'color': 'b'}, \n",
    "                             pctdistance=0, labeldistance=1.5)"
   ]
  },
  {
   "cell_type": "code",
   "execution_count": null,
   "metadata": {},
   "outputs": [],
   "source": []
  }
 ],
 "metadata": {
  "kernelspec": {
   "display_name": "Python 3",
   "language": "python",
   "name": "python3"
  },
  "language_info": {
   "codemirror_mode": {
    "name": "ipython",
    "version": 3
   },
   "file_extension": ".py",
   "mimetype": "text/x-python",
   "name": "python",
   "nbconvert_exporter": "python",
   "pygments_lexer": "ipython3",
   "version": "3.8.6"
  }
 },
 "nbformat": 4,
 "nbformat_minor": 4
}
